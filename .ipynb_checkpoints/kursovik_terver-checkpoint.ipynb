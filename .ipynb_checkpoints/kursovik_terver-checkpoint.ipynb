{
 "cells": [
  {
   "cell_type": "code",
   "execution_count": 1,
   "metadata": {},
   "outputs": [],
   "source": [
    "import warnings\n",
    "\n",
    "import numpy as np\n",
    "import pandas as pd\n",
    "from matplotlib import pyplot as plt\n",
    "from pylab import rcParams\n",
    "\n",
    "warnings.filterwarnings('ignore')"
   ]
  },
  {
   "cell_type": "markdown",
   "metadata": {},
   "source": [
    "подходящего датафрейма не нашлось. придется создать свой.\n",
    "подход. есть данные по экономике на сайте мирового банка с 1970 года. поэтому выборка начинается с 1970 года\n",
    "чемпионат мира проводится раз в четыре года/ результаты 2018 в расчет пока не беру, потому что ввп за 2019 пока нет\n",
    "я присваиваю победителю 4, второе 3, третье 2, четвертое 1, невыход в финальную серию 0\n",
    "в анализе участвуют Бразилия(b), Голландия(g), Италия(i), Франция(f.)\n",
    "для анализа GDP возьму два варианта. вариант один в год чемпионата (gdp), вариант 2 на след год после проведения (gdp1).\n"
   ]
  },
  {
   "cell_type": "code",
   "execution_count": 2,
   "metadata": {},
   "outputs": [
    {
     "ename": "FileNotFoundError",
     "evalue": "[Errno 2] File b'WorldCups.csv' does not exist: b'WorldCups.csv'",
     "output_type": "error",
     "traceback": [
      "\u001b[1;31m---------------------------------------------------------------------------\u001b[0m",
      "\u001b[1;31mFileNotFoundError\u001b[0m                         Traceback (most recent call last)",
      "\u001b[1;32m<ipython-input-2-cbdbe3e7b942>\u001b[0m in \u001b[0;36m<module>\u001b[1;34m\u001b[0m\n\u001b[1;32m----> 1\u001b[1;33m \u001b[0mdf\u001b[0m \u001b[1;33m=\u001b[0m \u001b[0mpd\u001b[0m\u001b[1;33m.\u001b[0m\u001b[0mread_csv\u001b[0m\u001b[1;33m(\u001b[0m\u001b[1;34m'WorldCups.csv'\u001b[0m\u001b[1;33m)\u001b[0m\u001b[1;33m\u001b[0m\u001b[1;33m\u001b[0m\u001b[0m\n\u001b[0m\u001b[0;32m      2\u001b[0m \u001b[0mdf\u001b[0m\u001b[1;33m.\u001b[0m\u001b[0mtail\u001b[0m\u001b[1;33m(\u001b[0m\u001b[1;36m12\u001b[0m\u001b[1;33m)\u001b[0m\u001b[1;33m\u001b[0m\u001b[1;33m\u001b[0m\u001b[0m\n",
      "\u001b[1;32m~\\Anaconda3\\lib\\site-packages\\pandas\\io\\parsers.py\u001b[0m in \u001b[0;36mparser_f\u001b[1;34m(filepath_or_buffer, sep, delimiter, header, names, index_col, usecols, squeeze, prefix, mangle_dupe_cols, dtype, engine, converters, true_values, false_values, skipinitialspace, skiprows, skipfooter, nrows, na_values, keep_default_na, na_filter, verbose, skip_blank_lines, parse_dates, infer_datetime_format, keep_date_col, date_parser, dayfirst, iterator, chunksize, compression, thousands, decimal, lineterminator, quotechar, quoting, doublequote, escapechar, comment, encoding, dialect, tupleize_cols, error_bad_lines, warn_bad_lines, delim_whitespace, low_memory, memory_map, float_precision)\u001b[0m\n\u001b[0;32m    700\u001b[0m                     skip_blank_lines=skip_blank_lines)\n\u001b[0;32m    701\u001b[0m \u001b[1;33m\u001b[0m\u001b[0m\n\u001b[1;32m--> 702\u001b[1;33m         \u001b[1;32mreturn\u001b[0m \u001b[0m_read\u001b[0m\u001b[1;33m(\u001b[0m\u001b[0mfilepath_or_buffer\u001b[0m\u001b[1;33m,\u001b[0m \u001b[0mkwds\u001b[0m\u001b[1;33m)\u001b[0m\u001b[1;33m\u001b[0m\u001b[1;33m\u001b[0m\u001b[0m\n\u001b[0m\u001b[0;32m    703\u001b[0m \u001b[1;33m\u001b[0m\u001b[0m\n\u001b[0;32m    704\u001b[0m     \u001b[0mparser_f\u001b[0m\u001b[1;33m.\u001b[0m\u001b[0m__name__\u001b[0m \u001b[1;33m=\u001b[0m \u001b[0mname\u001b[0m\u001b[1;33m\u001b[0m\u001b[1;33m\u001b[0m\u001b[0m\n",
      "\u001b[1;32m~\\Anaconda3\\lib\\site-packages\\pandas\\io\\parsers.py\u001b[0m in \u001b[0;36m_read\u001b[1;34m(filepath_or_buffer, kwds)\u001b[0m\n\u001b[0;32m    427\u001b[0m \u001b[1;33m\u001b[0m\u001b[0m\n\u001b[0;32m    428\u001b[0m     \u001b[1;31m# Create the parser.\u001b[0m\u001b[1;33m\u001b[0m\u001b[1;33m\u001b[0m\u001b[1;33m\u001b[0m\u001b[0m\n\u001b[1;32m--> 429\u001b[1;33m     \u001b[0mparser\u001b[0m \u001b[1;33m=\u001b[0m \u001b[0mTextFileReader\u001b[0m\u001b[1;33m(\u001b[0m\u001b[0mfilepath_or_buffer\u001b[0m\u001b[1;33m,\u001b[0m \u001b[1;33m**\u001b[0m\u001b[0mkwds\u001b[0m\u001b[1;33m)\u001b[0m\u001b[1;33m\u001b[0m\u001b[1;33m\u001b[0m\u001b[0m\n\u001b[0m\u001b[0;32m    430\u001b[0m \u001b[1;33m\u001b[0m\u001b[0m\n\u001b[0;32m    431\u001b[0m     \u001b[1;32mif\u001b[0m \u001b[0mchunksize\u001b[0m \u001b[1;32mor\u001b[0m \u001b[0miterator\u001b[0m\u001b[1;33m:\u001b[0m\u001b[1;33m\u001b[0m\u001b[1;33m\u001b[0m\u001b[0m\n",
      "\u001b[1;32m~\\Anaconda3\\lib\\site-packages\\pandas\\io\\parsers.py\u001b[0m in \u001b[0;36m__init__\u001b[1;34m(self, f, engine, **kwds)\u001b[0m\n\u001b[0;32m    893\u001b[0m             \u001b[0mself\u001b[0m\u001b[1;33m.\u001b[0m\u001b[0moptions\u001b[0m\u001b[1;33m[\u001b[0m\u001b[1;34m'has_index_names'\u001b[0m\u001b[1;33m]\u001b[0m \u001b[1;33m=\u001b[0m \u001b[0mkwds\u001b[0m\u001b[1;33m[\u001b[0m\u001b[1;34m'has_index_names'\u001b[0m\u001b[1;33m]\u001b[0m\u001b[1;33m\u001b[0m\u001b[1;33m\u001b[0m\u001b[0m\n\u001b[0;32m    894\u001b[0m \u001b[1;33m\u001b[0m\u001b[0m\n\u001b[1;32m--> 895\u001b[1;33m         \u001b[0mself\u001b[0m\u001b[1;33m.\u001b[0m\u001b[0m_make_engine\u001b[0m\u001b[1;33m(\u001b[0m\u001b[0mself\u001b[0m\u001b[1;33m.\u001b[0m\u001b[0mengine\u001b[0m\u001b[1;33m)\u001b[0m\u001b[1;33m\u001b[0m\u001b[1;33m\u001b[0m\u001b[0m\n\u001b[0m\u001b[0;32m    896\u001b[0m \u001b[1;33m\u001b[0m\u001b[0m\n\u001b[0;32m    897\u001b[0m     \u001b[1;32mdef\u001b[0m \u001b[0mclose\u001b[0m\u001b[1;33m(\u001b[0m\u001b[0mself\u001b[0m\u001b[1;33m)\u001b[0m\u001b[1;33m:\u001b[0m\u001b[1;33m\u001b[0m\u001b[1;33m\u001b[0m\u001b[0m\n",
      "\u001b[1;32m~\\Anaconda3\\lib\\site-packages\\pandas\\io\\parsers.py\u001b[0m in \u001b[0;36m_make_engine\u001b[1;34m(self, engine)\u001b[0m\n\u001b[0;32m   1120\u001b[0m     \u001b[1;32mdef\u001b[0m \u001b[0m_make_engine\u001b[0m\u001b[1;33m(\u001b[0m\u001b[0mself\u001b[0m\u001b[1;33m,\u001b[0m \u001b[0mengine\u001b[0m\u001b[1;33m=\u001b[0m\u001b[1;34m'c'\u001b[0m\u001b[1;33m)\u001b[0m\u001b[1;33m:\u001b[0m\u001b[1;33m\u001b[0m\u001b[1;33m\u001b[0m\u001b[0m\n\u001b[0;32m   1121\u001b[0m         \u001b[1;32mif\u001b[0m \u001b[0mengine\u001b[0m \u001b[1;33m==\u001b[0m \u001b[1;34m'c'\u001b[0m\u001b[1;33m:\u001b[0m\u001b[1;33m\u001b[0m\u001b[1;33m\u001b[0m\u001b[0m\n\u001b[1;32m-> 1122\u001b[1;33m             \u001b[0mself\u001b[0m\u001b[1;33m.\u001b[0m\u001b[0m_engine\u001b[0m \u001b[1;33m=\u001b[0m \u001b[0mCParserWrapper\u001b[0m\u001b[1;33m(\u001b[0m\u001b[0mself\u001b[0m\u001b[1;33m.\u001b[0m\u001b[0mf\u001b[0m\u001b[1;33m,\u001b[0m \u001b[1;33m**\u001b[0m\u001b[0mself\u001b[0m\u001b[1;33m.\u001b[0m\u001b[0moptions\u001b[0m\u001b[1;33m)\u001b[0m\u001b[1;33m\u001b[0m\u001b[1;33m\u001b[0m\u001b[0m\n\u001b[0m\u001b[0;32m   1123\u001b[0m         \u001b[1;32melse\u001b[0m\u001b[1;33m:\u001b[0m\u001b[1;33m\u001b[0m\u001b[1;33m\u001b[0m\u001b[0m\n\u001b[0;32m   1124\u001b[0m             \u001b[1;32mif\u001b[0m \u001b[0mengine\u001b[0m \u001b[1;33m==\u001b[0m \u001b[1;34m'python'\u001b[0m\u001b[1;33m:\u001b[0m\u001b[1;33m\u001b[0m\u001b[1;33m\u001b[0m\u001b[0m\n",
      "\u001b[1;32m~\\Anaconda3\\lib\\site-packages\\pandas\\io\\parsers.py\u001b[0m in \u001b[0;36m__init__\u001b[1;34m(self, src, **kwds)\u001b[0m\n\u001b[0;32m   1851\u001b[0m         \u001b[0mkwds\u001b[0m\u001b[1;33m[\u001b[0m\u001b[1;34m'usecols'\u001b[0m\u001b[1;33m]\u001b[0m \u001b[1;33m=\u001b[0m \u001b[0mself\u001b[0m\u001b[1;33m.\u001b[0m\u001b[0musecols\u001b[0m\u001b[1;33m\u001b[0m\u001b[1;33m\u001b[0m\u001b[0m\n\u001b[0;32m   1852\u001b[0m \u001b[1;33m\u001b[0m\u001b[0m\n\u001b[1;32m-> 1853\u001b[1;33m         \u001b[0mself\u001b[0m\u001b[1;33m.\u001b[0m\u001b[0m_reader\u001b[0m \u001b[1;33m=\u001b[0m \u001b[0mparsers\u001b[0m\u001b[1;33m.\u001b[0m\u001b[0mTextReader\u001b[0m\u001b[1;33m(\u001b[0m\u001b[0msrc\u001b[0m\u001b[1;33m,\u001b[0m \u001b[1;33m**\u001b[0m\u001b[0mkwds\u001b[0m\u001b[1;33m)\u001b[0m\u001b[1;33m\u001b[0m\u001b[1;33m\u001b[0m\u001b[0m\n\u001b[0m\u001b[0;32m   1854\u001b[0m         \u001b[0mself\u001b[0m\u001b[1;33m.\u001b[0m\u001b[0munnamed_cols\u001b[0m \u001b[1;33m=\u001b[0m \u001b[0mself\u001b[0m\u001b[1;33m.\u001b[0m\u001b[0m_reader\u001b[0m\u001b[1;33m.\u001b[0m\u001b[0munnamed_cols\u001b[0m\u001b[1;33m\u001b[0m\u001b[1;33m\u001b[0m\u001b[0m\n\u001b[0;32m   1855\u001b[0m \u001b[1;33m\u001b[0m\u001b[0m\n",
      "\u001b[1;32mpandas/_libs/parsers.pyx\u001b[0m in \u001b[0;36mpandas._libs.parsers.TextReader.__cinit__\u001b[1;34m()\u001b[0m\n",
      "\u001b[1;32mpandas/_libs/parsers.pyx\u001b[0m in \u001b[0;36mpandas._libs.parsers.TextReader._setup_parser_source\u001b[1;34m()\u001b[0m\n",
      "\u001b[1;31mFileNotFoundError\u001b[0m: [Errno 2] File b'WorldCups.csv' does not exist: b'WorldCups.csv'"
     ]
    }
   ],
   "source": [
    "df = pd.read_csv('WorldCups.csv')\n",
    "df.tail(12)"
   ]
  },
  {
   "cell_type": "code",
   "execution_count": 3,
   "metadata": {},
   "outputs": [
    {
     "data": {
      "text/plain": [
       "(12,)"
      ]
     },
     "execution_count": 3,
     "metadata": {},
     "output_type": "execute_result"
    }
   ],
   "source": [
    "b = np.array([4, 1, 2, 0, 0, 0, 4, 3, 4, 0, 0, 1])\n",
    "b.shape"
   ]
  },
  {
   "cell_type": "code",
   "execution_count": 4,
   "metadata": {},
   "outputs": [
    {
     "data": {
      "text/plain": [
       "(12,)"
      ]
     },
     "execution_count": 4,
     "metadata": {},
     "output_type": "execute_result"
    }
   ],
   "source": [
    "gdpb = np.array([8.8, 9.0, 3.2, 0.6, 8.0, -3.1, 5.3, 0.3, 3.1, 4.0, 7.5, 0.5])\n",
    "gdpb.shape"
   ]
  },
  {
   "cell_type": "code",
   "execution_count": 5,
   "metadata": {},
   "outputs": [
    {
     "data": {
      "text/plain": [
       "(12,)"
      ]
     },
     "execution_count": 5,
     "metadata": {},
     "output_type": "execute_result"
    }
   ],
   "source": [
    "gdpb1 = np.array([11.3, 5.2, 6.8, -3.4, 3.6, 1.5, 4.4, 0.5, 1.1, 6.1, 4.0, -3.5])\n",
    "gdpb1.shape"
   ]
  },
  {
   "cell_type": "code",
   "execution_count": 6,
   "metadata": {},
   "outputs": [
    {
     "data": {
      "text/plain": [
       "(12,)"
      ]
     },
     "execution_count": 6,
     "metadata": {},
     "output_type": "execute_result"
    }
   ],
   "source": [
    "f = np.array([0, 0, 0, 1, 2, 0, 0, 4, 0, 3, 0, 0])\n",
    "f.shape"
   ]
  },
  {
   "cell_type": "code",
   "execution_count": 7,
   "metadata": {},
   "outputs": [
    {
     "data": {
      "text/plain": [
       "(12,)"
      ]
     },
     "execution_count": 7,
     "metadata": {},
     "output_type": "execute_result"
    }
   ],
   "source": [
    "gdpf = np.array([5.0, 4.3, 4.0, 2.5, 2.3, 2.9, 2.4, 3.6, 1.1, 2.4, 1.9, 1.0])\n",
    "gdpf.shape"
   ]
  },
  {
   "cell_type": "code",
   "execution_count": 8,
   "metadata": {},
   "outputs": [
    {
     "data": {
      "text/plain": [
       "(12,)"
      ]
     },
     "execution_count": 8,
     "metadata": {},
     "output_type": "execute_result"
    }
   ],
   "source": [
    "gdpf1 = np.array([5.3, -1.0, 3.5, 1.2, 2.6, 1.0, 2.1, 3.4, 0.8, 2.4, 2.2, 1.1])\n",
    "gdpf1.shape"
   ]
  },
  {
   "cell_type": "code",
   "execution_count": 9,
   "metadata": {},
   "outputs": [
    {
     "data": {
      "text/plain": [
       "(12,)"
      ]
     },
     "execution_count": 9,
     "metadata": {},
     "output_type": "execute_result"
    }
   ],
   "source": [
    "i = np.array([3, 0, 1, 4, 0, 2, 3, 0, 0, 4, 0, 0])\n",
    "i.shape"
   ]
  },
  {
   "cell_type": "code",
   "execution_count": 10,
   "metadata": {},
   "outputs": [
    {
     "data": {
      "text/plain": [
       "(12,)"
      ]
     },
     "execution_count": 10,
     "metadata": {},
     "output_type": "execute_result"
    }
   ],
   "source": [
    "gdpi = np.array([5.3, 5.5, 3.2, 0.4, 2.9, 2.0, 2.2, 1.6, 0.2, 2.0, 1.7, 0.1])\n",
    "gdpi.shape"
   ]
  },
  {
   "cell_type": "code",
   "execution_count": 11,
   "metadata": {},
   "outputs": [
    {
     "data": {
      "text/plain": [
       "(12,)"
      ]
     },
     "execution_count": 11,
     "metadata": {},
     "output_type": "execute_result"
    }
   ],
   "source": [
    "gdpi1 = np.array([1.8, -2.1, 6.0, 1.2, 3.2, 1.5, 2.9, 1.6, 0.2, 1.5, 0.6, 0.9])\n",
    "gdpi1.shape"
   ]
  },
  {
   "cell_type": "code",
   "execution_count": 12,
   "metadata": {},
   "outputs": [
    {
     "data": {
      "text/plain": [
       "(12,)"
      ]
     },
     "execution_count": 12,
     "metadata": {},
     "output_type": "execute_result"
    }
   ],
   "source": [
    "g = np.array([0, 3, 3, 0, 0, 0, 0, 1, 0, 0, 3, 2])\n",
    "g.shape"
   ]
  },
  {
   "cell_type": "code",
   "execution_count": 13,
   "metadata": {},
   "outputs": [
    {
     "data": {
      "text/plain": [
       "(12,)"
      ]
     },
     "execution_count": 13,
     "metadata": {},
     "output_type": "execute_result"
    }
   ],
   "source": [
    "gdpg = np.array([6.3, 3.4, 2.7, -1.2, 2.8, 4.2, 3.0, 4.7, 0.2, 3.5, 1.3, 1.4])\n",
    "gdpg.shape"
   ]
  },
  {
   "cell_type": "code",
   "execution_count": 14,
   "metadata": {},
   "outputs": [
    {
     "data": {
      "text/plain": [
       "(12,)"
      ]
     },
     "execution_count": 14,
     "metadata": {},
     "output_type": "execute_result"
    }
   ],
   "source": [
    "gdpg1 = np.array([2.11, 2.10, 2.9, 2.8, 2.7, 2.6, 2.5, 2.4, 2.3, 2.2, 2.1, 2.0])\n",
    "gdpg1.shape"
   ]
  },
  {
   "cell_type": "code",
   "execution_count": 15,
   "metadata": {},
   "outputs": [
    {
     "data": {
      "text/plain": [
       "array([[1.        , 0.14643934],\n",
       "       [0.14643934, 1.        ]])"
      ]
     },
     "execution_count": 15,
     "metadata": {},
     "output_type": "execute_result"
    }
   ],
   "source": [
    "np.corrcoef(b, gdpb)\n"
   ]
  },
  {
   "cell_type": "code",
   "execution_count": 16,
   "metadata": {},
   "outputs": [
    {
     "data": {
      "text/plain": [
       "array([[1.        , 0.04545725],\n",
       "       [0.04545725, 1.        ]])"
      ]
     },
     "execution_count": 16,
     "metadata": {},
     "output_type": "execute_result"
    }
   ],
   "source": [
    "np.corrcoef(f, gdpf)"
   ]
  },
  {
   "cell_type": "code",
   "execution_count": 17,
   "metadata": {},
   "outputs": [
    {
     "data": {
      "text/plain": [
       "array([[1.        , 0.02789783],\n",
       "       [0.02789783, 1.        ]])"
      ]
     },
     "execution_count": 17,
     "metadata": {},
     "output_type": "execute_result"
    }
   ],
   "source": [
    "np.corrcoef(i, gdpi)"
   ]
  },
  {
   "cell_type": "code",
   "execution_count": 18,
   "metadata": {},
   "outputs": [
    {
     "data": {
      "text/plain": [
       "array([[ 1.        , -0.08614263],\n",
       "       [-0.08614263,  1.        ]])"
      ]
     },
     "execution_count": 18,
     "metadata": {},
     "output_type": "execute_result"
    }
   ],
   "source": [
    "np.corrcoef(g, gdpg)"
   ]
  },
  {
   "cell_type": "code",
   "execution_count": 19,
   "metadata": {},
   "outputs": [
    {
     "data": {
      "text/plain": [
       "array([[1.        , 0.30444581],\n",
       "       [0.30444581, 1.        ]])"
      ]
     },
     "execution_count": 19,
     "metadata": {},
     "output_type": "execute_result"
    }
   ],
   "source": [
    "np.corrcoef(b, gdpb1)"
   ]
  },
  {
   "cell_type": "code",
   "execution_count": 20,
   "metadata": {},
   "outputs": [
    {
     "data": {
      "text/plain": [
       "array([[1.        , 0.26948082],\n",
       "       [0.26948082, 1.        ]])"
      ]
     },
     "execution_count": 20,
     "metadata": {},
     "output_type": "execute_result"
    }
   ],
   "source": [
    "np.corrcoef(f, gdpf1)"
   ]
  },
  {
   "cell_type": "code",
   "execution_count": 21,
   "metadata": {},
   "outputs": [
    {
     "data": {
      "text/plain": [
       "array([[1.        , 0.18427592],\n",
       "       [0.18427592, 1.        ]])"
      ]
     },
     "execution_count": 21,
     "metadata": {},
     "output_type": "execute_result"
    }
   ],
   "source": [
    "np.corrcoef(i, gdpi1)"
   ]
  },
  {
   "cell_type": "code",
   "execution_count": 22,
   "metadata": {},
   "outputs": [
    {
     "data": {
      "text/plain": [
       "array([[ 1.        , -0.22324326],\n",
       "       [-0.22324326,  1.        ]])"
      ]
     },
     "execution_count": 22,
     "metadata": {},
     "output_type": "execute_result"
    }
   ],
   "source": [
    "np.corrcoef(g, gdpg1)"
   ]
  },
  {
   "cell_type": "markdown",
   "metadata": {},
   "source": [
    "Найдём коэффициенты линейной регрессии: сначала год к году, потом год после чемпионата/ начнем с бразилии"
   ]
  },
  {
   "cell_type": "code",
   "execution_count": 23,
   "metadata": {},
   "outputs": [
    {
     "data": {
      "text/plain": [
       "0.06495835491969876"
      ]
     },
     "execution_count": 23,
     "metadata": {},
     "output_type": "execute_result"
    }
   ],
   "source": [
    "b1 = ((gdpb * b).mean() - gdpb.mean() * b.mean()) / ((gdpb ** 2).mean() - gdpb.mean() ** 2)\n",
    "b1"
   ]
  },
  {
   "cell_type": "code",
   "execution_count": 24,
   "metadata": {},
   "outputs": [
    {
     "data": {
      "text/plain": [
       "1.3278304706491848"
      ]
     },
     "execution_count": 24,
     "metadata": {},
     "output_type": "execute_result"
    }
   ],
   "source": [
    "b0 = b.mean() - b1 * gdpb.mean()\n",
    "b0"
   ]
  },
  {
   "cell_type": "code",
   "execution_count": 25,
   "metadata": {},
   "outputs": [
    {
     "data": {
      "text/plain": [
       "0.12469844721552102"
      ]
     },
     "execution_count": 25,
     "metadata": {},
     "output_type": "execute_result"
    }
   ],
   "source": [
    "b12 = ((gdpb1 * b).mean() - gdpb1.mean() * b.mean()) / ((gdpb1 ** 2).mean() - gdpb1.mean() ** 2)\n",
    "b12"
   ]
  },
  {
   "cell_type": "code",
   "execution_count": 26,
   "metadata": {},
   "outputs": [
    {
     "data": {
      "text/plain": [
       "1.379797154584944"
      ]
     },
     "execution_count": 26,
     "metadata": {},
     "output_type": "execute_result"
    }
   ],
   "source": [
    "b02 = b.mean() - b1 * gdpb1.mean()\n",
    "b02"
   ]
  },
  {
   "cell_type": "code",
   "execution_count": 27,
   "metadata": {},
   "outputs": [
    {
     "data": {
      "text/plain": [
       "Text(0, 0.5, 'fifa')"
      ]
     },
     "execution_count": 27,
     "metadata": {},
     "output_type": "execute_result"
    },
    {
     "data": {
      "image/png": "[encoded data removed]",
      "text/plain": [
       "<Figure size 432x288 with 1 Axes>"
      ]
     },
     "metadata": {
      "needs_background": "light"
     },
     "output_type": "display_data"
    }
   ],
   "source": [
    "box = gdpb\n",
    "boy = b0 + b1 * box\n",
    "box1 = gdpb1\n",
    "boy1 = b02 + b12 * box1\n",
    "\n",
    "plt.scatter(gdpb, b)\n",
    "plt.plot(box, boy, color='green', alpha=0.5)\n",
    "plt.scatter(gdpb1, b)\n",
    "plt.plot(box1, boy1, color='red', alpha=0.5)\n",
    "\n",
    "plt.xlabel('gdp')\n",
    "plt.ylabel('fifa')"
   ]
  },
  {
   "cell_type": "markdown",
   "metadata": {},
   "source": [
    "Найдём коэффициенты линейной регрессии: сначала год к году, потом год после чемпионата. теперь франция"
   ]
  },
  {
   "cell_type": "code",
   "execution_count": null,
   "metadata": {},
   "outputs": [],
   "source": [
    "f1 = ((gdpf * f).mean() - gdpf.mean() * f.mean()) / ((gdpf ** 2).mean() - gdpf.mean() ** 2)\n",
    "f1"
   ]
  },
  {
   "cell_type": "code",
   "execution_count": null,
   "metadata": {},
   "outputs": [],
   "source": [
    "f0 = f.mean() - f1 * gdpf.mean()\n",
    "f0"
   ]
  },
  {
   "cell_type": "code",
   "execution_count": null,
   "metadata": {},
   "outputs": [],
   "source": [
    "f12 = ((gdpf1 * f).mean() - gdpf1.mean() * f.mean()) / ((gdpf1 ** 2).mean() - gdpf1.mean() ** 2)\n",
    "f12"
   ]
  },
  {
   "cell_type": "code",
   "execution_count": null,
   "metadata": {},
   "outputs": [],
   "source": [
    "f02 = f.mean() - f1 * gdpf1.mean()\n",
    "f02"
   ]
  },
  {
   "cell_type": "code",
   "execution_count": null,
   "metadata": {},
   "outputs": [],
   "source": [
    "fox = gdpf\n",
    "foy = f0 + f1 * fox\n",
    "fox1 = gdpf1\n",
    "foy1 = f02 + f12 * fox1\n",
    "plt.scatter(gdpf, f)\n",
    "plt.plot(fox, foy, color='green', alpha=0.5)\n",
    "plt.scatter(gdpf1, f)\n",
    "plt.plot(fox1, foy1, color='red', alpha=0.5)\n",
    "\n",
    "plt.xlabel('gdpf')\n",
    "plt.ylabel('fifa')"
   ]
  },
  {
   "cell_type": "markdown",
   "metadata": {},
   "source": [
    "Найдём коэффициенты линейной регрессии: сначала год к году, потом год после чемпионата. теперь италия"
   ]
  },
  {
   "cell_type": "code",
   "execution_count": null,
   "metadata": {},
   "outputs": [],
   "source": [
    "i1 = ((gdpi * i).mean() - gdpi.mean() * i.mean()) / ((gdpi ** 2).mean() - gdpi.mean() ** 2)\n",
    "i1"
   ]
  },
  {
   "cell_type": "code",
   "execution_count": null,
   "metadata": {},
   "outputs": [],
   "source": [
    "i0 = i.mean() - i1 * gdpi.mean()\n",
    "i0"
   ]
  },
  {
   "cell_type": "code",
   "execution_count": null,
   "metadata": {},
   "outputs": [],
   "source": [
    "i12 = ((gdpi1 * i).mean() - gdpi1.mean() * i.mean()) / ((gdpi1 ** 2).mean() - gdpi1.mean() ** 2)\n",
    "i12"
   ]
  },
  {
   "cell_type": "code",
   "execution_count": null,
   "metadata": {},
   "outputs": [],
   "source": [
    "i02 = i.mean() - i1 * gdpi1.mean()\n",
    "i02"
   ]
  },
  {
   "cell_type": "code",
   "execution_count": null,
   "metadata": {},
   "outputs": [],
   "source": [
    "iox = gdpi\n",
    "ioy = i0 + i1 * iox\n",
    "iox1 = gdpi1\n",
    "ioy1 = i02 + i12 * iox1\n",
    "plt.scatter(gdpi, i)\n",
    "plt.plot(iox, ioy, color='green', alpha=0.5)\n",
    "plt.scatter(gdpi1, i)\n",
    "plt.plot(iox1, ioy1, color='red', alpha=0.5)\n",
    "\n",
    "plt.xlabel('gdpi')\n",
    "plt.ylabel('fifa')"
   ]
  },
  {
   "cell_type": "markdown",
   "metadata": {},
   "source": [
    "Найдём коэффициенты линейной регрессии: сначала год к году, потом год после чемпионата. теперь голландия"
   ]
  },
  {
   "cell_type": "code",
   "execution_count": null,
   "metadata": {},
   "outputs": [],
   "source": [
    "g1 = ((gdpg * g).mean() - gdpg.mean() * g.mean()) / ((gdpg ** 2).mean() - gdpg.mean() ** 2)\n",
    "g1"
   ]
  },
  {
   "cell_type": "code",
   "execution_count": null,
   "metadata": {},
   "outputs": [],
   "source": [
    "g0 = g.mean() - g1 * gdpg.mean()\n",
    "g0"
   ]
  },
  {
   "cell_type": "code",
   "execution_count": null,
   "metadata": {},
   "outputs": [],
   "source": [
    "g12 = ((gdpg1 * g).mean() - gdpg1.mean() * g.mean()) / ((gdpg1 ** 2).mean() - gdpg1.mean() ** 2)\n",
    "g12"
   ]
  },
  {
   "cell_type": "code",
   "execution_count": null,
   "metadata": {},
   "outputs": [],
   "source": [
    "g02 = g.mean() - g1 * gdpg1.mean()\n",
    "g02"
   ]
  },
  {
   "cell_type": "code",
   "execution_count": null,
   "metadata": {},
   "outputs": [],
   "source": [
    "gox = gdpg\n",
    "goy = g0 + g1 * gox\n",
    "gox1 = gdpg1\n",
    "goy1 = g02 + g12 * gox1\n",
    "plt.scatter(gdpg, g)\n",
    "plt.plot(gox, goy, color='green', alpha=0.5)\n",
    "plt.scatter(gdpg1, g)\n",
    "plt.plot(gox1, goy1, color='red', alpha=0.5)\n",
    "\n",
    "plt.xlabel('gdpg')\n",
    "plt.ylabel('fifa')"
   ]
  },
  {
   "cell_type": "code",
   "execution_count": null,
   "metadata": {},
   "outputs": [],
   "source": [
    "bx = gdpb\n",
    "by = b0 + b1 * bx\n",
    "\n",
    "plt.scatter(gdpb, b)\n",
    "plt.plot(bx, by, color='green', alpha=0.5)\n",
    "\n",
    "bx = gdpb1\n",
    "by = b02 + b12 * bx\n",
    "\n",
    "plt.scatter(gdpb1, b)\n",
    "\n",
    "plt.plot(bx, by, color='magenta', alpha=0.5)\n",
    "\n",
    "\n",
    "\n",
    "fx = gdpf\n",
    "fy = f0 + f1 * fx\n",
    "\n",
    "plt.scatter(gdpf, f)\n",
    "plt.plot(fx, fy, color='green', alpha=0.5)\n",
    "\n",
    "fx = gdpf1\n",
    "fy = f02 + f12 * fx\n",
    "\n",
    "plt.scatter(gdpf1, f)\n",
    "\n",
    "plt.plot(fx, fy, color='black', alpha=0.5)\n",
    "\n",
    "ix = gdpi\n",
    "iy = i0 + i1 * ix\n",
    "\n",
    "plt.scatter(gdpi, i)\n",
    "plt.plot(ix, iy, color='green', alpha=0.5)\n",
    "\n",
    "ix = gdpi1\n",
    "iy = i02 + i12 * ix\n",
    "\n",
    "plt.scatter(gdpi1, i)\n",
    "\n",
    "plt.plot(ix, iy, color='blue', alpha=0.5)\n",
    "\n",
    "gx = gdpg\n",
    "gy = g0 + g1 * gx\n",
    "\n",
    "plt.scatter(gdpg, g)\n",
    "plt.plot(gx, gy, color='green', alpha=0.5)\n",
    "\n",
    "gx = gdpg1\n",
    "gy = g02 + g12 * gx\n",
    "\n",
    "plt.scatter(gdpg1, g)\n",
    "\n",
    "plt.plot(gx, gy, color='red', alpha=0.5)\n",
    "\n",
    "plt.xlabel('gdp')\n",
    "plt.ylabel('fifa')"
   ]
  },
  {
   "cell_type": "code",
   "execution_count": null,
   "metadata": {},
   "outputs": [],
   "source": []
  },
  {
   "cell_type": "code",
   "execution_count": null,
   "metadata": {},
   "outputs": [],
   "source": [
    "fig, ax = plt.subplots(nrows=2, ncols=2)\n",
    "ax1, ax2, ax3, ax4 = ax.flatten()\n",
    "fig.set_size_inches(13, 10)\n",
    "\n",
    "\n",
    "fig.subplots_adjust(wspace=0.3, hspace=0.3)\n",
    "\n",
    "ax1.scatter(gdpb, b)\n",
    "ax1.plot(box, boy, color='green', alpha=0.5)\n",
    "ax1.scatter(gdpb1, b)\n",
    "ax1.plot(box1, boy1, color='red', alpha=0.5)\n",
    "ax1.set_title(\"brazil\")\n",
    "\n",
    "ax2.scatter(gdpf, f)\n",
    "ax2.plot(fox, foy, color='green', alpha=0.5)\n",
    "ax2.scatter(gdpf1, f)\n",
    "ax2.plot(fox1, foy1, color='red', alpha=0.5)\n",
    "ax2.set_title(\"france\")\n",
    "\n",
    "ax3.scatter(gdpi, i)\n",
    "ax3.plot(iox, ioy, color='green', alpha=0.5)\n",
    "ax3.scatter(gdpi1, i)\n",
    "ax3.plot(iox1, ioy1, color='red', alpha=0.5)\n",
    "ax3.set_title(\"italy\")\n",
    "\n",
    "ax4.scatter(gdpg, g)\n",
    "ax4.plot(gox, goy, color='green', alpha=0.5)\n",
    "ax4.scatter(gdpg1, g)\n",
    "ax4.plot(gox1, goy1, color='red', alpha=0.5)\n",
    "ax4.set_title(\"netherlands\")"
   ]
  },
  {
   "cell_type": "markdown",
   "metadata": {},
   "source": [
    "видна некая зависимость роста ввп от результата игры национальной команды. если команда играла в финальной части ЧМ, то в след году ВВП страны рос. При этом зависимости ВВП от результатов команды в год проведения не видно. Однако из общего ряда выбиваются голландцы."
   ]
  },
  {
   "cell_type": "markdown",
   "metadata": {},
   "source": [
    "теперь я хочу посчитать вероятность роста Ввп страны, в случае если ее команда играет в финальной части ЧМ. Возьму те же 12 последних чемпионатов (без 2018). Если команда играла в финальной части и при этом ее ВВП на след год по темпу роста был выше предыдущего года, то это 1, если нет то 0.При этом в количество экспериментов войдет только число раз, когда команда участвовала. думаю, что эти событие можно признать совместными."
   ]
  },
  {
   "cell_type": "markdown",
   "metadata": {},
   "source": [
    "brazil 3/7\n",
    "italy 3/6\n",
    "netherlands 3/5\n",
    "france 2/4\n",
    "\n",
    "количество положительных исходов к количеству испытаний будет 11/22. или 0.5.\n",
    "\n",
    "то есть, если команда успешно сыграет, ввп ее страны не только вырастет, но и с вероятностью 50 процентов будет выше предыдущего года."
   ]
  },
  {
   "cell_type": "code",
   "execution_count": null,
   "metadata": {},
   "outputs": [],
   "source": [
    "(3/7 + 3/6 + 3/5 + 2/4) / 4"
   ]
  },
  {
   "cell_type": "markdown",
   "metadata": {},
   "source": [
    "интересно посмотреть и с другой стороны. С какой вероятностью ввп снизится, если команда не играет в финале чм. Соответственно 1, если команда не играет и ввп на след год снижается, 0 если ввп растет"
   ]
  },
  {
   "cell_type": "markdown",
   "metadata": {},
   "source": [
    "brazil 3/5\n",
    "italy 4/6\n",
    "netherlands 5/7\n",
    "france 5/8\n",
    "\n",
    "количество положительных исходов к количеству испытаний будет 17/26. или 0.65\n",
    "\n",
    "то есть, если команда, постоянный участник финальной стадии ЧМ, не попадет в четверку лучших, то с вероятность 65 процентов ввп этой страны на след год снизится."
   ]
  },
  {
   "cell_type": "code",
   "execution_count": null,
   "metadata": {},
   "outputs": [],
   "source": [
    "(3/5 + 4/6 + 5/7 + 5/8) / 4"
   ]
  }
 ],
 "metadata": {
  "kernelspec": {
   "display_name": "Python 3",
   "language": "python",
   "name": "python3"
  },
  "language_info": {
   "codemirror_mode": {
    "name": "ipython",
    "version": 3
   },
   "file_extension": ".py",
   "mimetype": "text/x-python",
   "name": "python",
   "nbconvert_exporter": "python",
   "pygments_lexer": "ipython3",
   "version": "3.7.3"
  }
 },
 "nbformat": 4,
 "nbformat_minor": 2
}
