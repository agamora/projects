{
 "cells": [
  {
   "cell_type": "code",
   "execution_count": 1,
   "metadata": {},
   "outputs": [],
   "source": [
    "import warnings\n",
    "\n",
    "import numpy as np\n",
    "import pandas as pd\n",
    "from matplotlib import pyplot as plt\n",
    "from pylab import rcParams\n",
    "\n",
    "warnings.filterwarnings('ignore')"
   ]
  },
  {
   "cell_type": "markdown",
   "metadata": {},
   "source": [
    "подходящего датафрейма не нашлось. придется создать свой.\n",
    "подход. есть данные по экономике на сайте мирового банка с 1970 года. поэтому выборка начинается с 1970 года\n",
    "чемпионат мира проводится раз в четыре года/ результаты 2018 в расчет пока не беру, потому что ввп за 2019 пока нет\n",
    "я присваиваю победителю 4, второе 3, третье 2, четвертое 1, невыход в финальную серию 0\n",
    "в анализе участвуют Бразилия(b), Голландия(g), Италия(i), Франция(f.)\n",
    "для анализа GDP возьму два варианта. вариант один в год чемпионата (gdp), вариант 2 на след год после проведения (gdp1).\n"
   ]
  },
  {
   "cell_type": "code",
   "execution_count": 47,
   "metadata": {},
   "outputs": [
    {
     "data": {
      "text/html": [
       "<div>\n",
       "<style scoped>\n",
       "    .dataframe tbody tr th:only-of-type {\n",
       "        vertical-align: middle;\n",
       "    }\n",
       "\n",
       "    .dataframe tbody tr th {\n",
       "        vertical-align: top;\n",
       "    }\n",
       "\n",
       "    .dataframe thead th {\n",
       "        text-align: right;\n",
       "    }\n",
       "</style>\n",
       "<table border=\"1\" class=\"dataframe\">\n",
       "  <thead>\n",
       "    <tr style=\"text-align: right;\">\n",
       "      <th></th>\n",
       "      <th>Year</th>\n",
       "      <th>Country</th>\n",
       "      <th>Winner</th>\n",
       "      <th>Runners-Up</th>\n",
       "      <th>Third</th>\n",
       "      <th>Fourth</th>\n",
       "      <th>GoalsScored</th>\n",
       "      <th>QualifiedTeams</th>\n",
       "      <th>MatchesPlayed</th>\n",
       "      <th>Attendance</th>\n",
       "    </tr>\n",
       "  </thead>\n",
       "  <tbody>\n",
       "    <tr>\n",
       "      <th>8</th>\n",
       "      <td>1970</td>\n",
       "      <td>Mexico</td>\n",
       "      <td>Brazil</td>\n",
       "      <td>Italy</td>\n",
       "      <td>Germany FR</td>\n",
       "      <td>Uruguay</td>\n",
       "      <td>95</td>\n",
       "      <td>16</td>\n",
       "      <td>32</td>\n",
       "      <td>1.603.975</td>\n",
       "    </tr>\n",
       "    <tr>\n",
       "      <th>9</th>\n",
       "      <td>1974</td>\n",
       "      <td>Germany</td>\n",
       "      <td>Germany FR</td>\n",
       "      <td>Netherlands</td>\n",
       "      <td>Poland</td>\n",
       "      <td>Brazil</td>\n",
       "      <td>97</td>\n",
       "      <td>16</td>\n",
       "      <td>38</td>\n",
       "      <td>1.865.753</td>\n",
       "    </tr>\n",
       "    <tr>\n",
       "      <th>10</th>\n",
       "      <td>1978</td>\n",
       "      <td>Argentina</td>\n",
       "      <td>Argentina</td>\n",
       "      <td>Netherlands</td>\n",
       "      <td>Brazil</td>\n",
       "      <td>Italy</td>\n",
       "      <td>102</td>\n",
       "      <td>16</td>\n",
       "      <td>38</td>\n",
       "      <td>1.545.791</td>\n",
       "    </tr>\n",
       "    <tr>\n",
       "      <th>11</th>\n",
       "      <td>1982</td>\n",
       "      <td>Spain</td>\n",
       "      <td>Italy</td>\n",
       "      <td>Germany FR</td>\n",
       "      <td>Poland</td>\n",
       "      <td>France</td>\n",
       "      <td>146</td>\n",
       "      <td>24</td>\n",
       "      <td>52</td>\n",
       "      <td>2.109.723</td>\n",
       "    </tr>\n",
       "    <tr>\n",
       "      <th>12</th>\n",
       "      <td>1986</td>\n",
       "      <td>Mexico</td>\n",
       "      <td>Argentina</td>\n",
       "      <td>Germany FR</td>\n",
       "      <td>France</td>\n",
       "      <td>Belgium</td>\n",
       "      <td>132</td>\n",
       "      <td>24</td>\n",
       "      <td>52</td>\n",
       "      <td>2.394.031</td>\n",
       "    </tr>\n",
       "    <tr>\n",
       "      <th>13</th>\n",
       "      <td>1990</td>\n",
       "      <td>Italy</td>\n",
       "      <td>Germany FR</td>\n",
       "      <td>Argentina</td>\n",
       "      <td>Italy</td>\n",
       "      <td>England</td>\n",
       "      <td>115</td>\n",
       "      <td>24</td>\n",
       "      <td>52</td>\n",
       "      <td>2.516.215</td>\n",
       "    </tr>\n",
       "    <tr>\n",
       "      <th>14</th>\n",
       "      <td>1994</td>\n",
       "      <td>USA</td>\n",
       "      <td>Brazil</td>\n",
       "      <td>Italy</td>\n",
       "      <td>Sweden</td>\n",
       "      <td>Bulgaria</td>\n",
       "      <td>141</td>\n",
       "      <td>24</td>\n",
       "      <td>52</td>\n",
       "      <td>3.587.538</td>\n",
       "    </tr>\n",
       "    <tr>\n",
       "      <th>15</th>\n",
       "      <td>1998</td>\n",
       "      <td>France</td>\n",
       "      <td>France</td>\n",
       "      <td>Brazil</td>\n",
       "      <td>Croatia</td>\n",
       "      <td>Netherlands</td>\n",
       "      <td>171</td>\n",
       "      <td>32</td>\n",
       "      <td>64</td>\n",
       "      <td>2.785.100</td>\n",
       "    </tr>\n",
       "    <tr>\n",
       "      <th>16</th>\n",
       "      <td>2002</td>\n",
       "      <td>Korea/Japan</td>\n",
       "      <td>Brazil</td>\n",
       "      <td>Germany</td>\n",
       "      <td>Turkey</td>\n",
       "      <td>Korea Republic</td>\n",
       "      <td>161</td>\n",
       "      <td>32</td>\n",
       "      <td>64</td>\n",
       "      <td>2.705.197</td>\n",
       "    </tr>\n",
       "    <tr>\n",
       "      <th>17</th>\n",
       "      <td>2006</td>\n",
       "      <td>Germany</td>\n",
       "      <td>Italy</td>\n",
       "      <td>France</td>\n",
       "      <td>Germany</td>\n",
       "      <td>Portugal</td>\n",
       "      <td>147</td>\n",
       "      <td>32</td>\n",
       "      <td>64</td>\n",
       "      <td>3.359.439</td>\n",
       "    </tr>\n",
       "    <tr>\n",
       "      <th>18</th>\n",
       "      <td>2010</td>\n",
       "      <td>South Africa</td>\n",
       "      <td>Spain</td>\n",
       "      <td>Netherlands</td>\n",
       "      <td>Germany</td>\n",
       "      <td>Uruguay</td>\n",
       "      <td>145</td>\n",
       "      <td>32</td>\n",
       "      <td>64</td>\n",
       "      <td>3.178.856</td>\n",
       "    </tr>\n",
       "    <tr>\n",
       "      <th>19</th>\n",
       "      <td>2014</td>\n",
       "      <td>Brazil</td>\n",
       "      <td>Germany</td>\n",
       "      <td>Argentina</td>\n",
       "      <td>Netherlands</td>\n",
       "      <td>Brazil</td>\n",
       "      <td>171</td>\n",
       "      <td>32</td>\n",
       "      <td>64</td>\n",
       "      <td>3.386.810</td>\n",
       "    </tr>\n",
       "  </tbody>\n",
       "</table>\n",
       "</div>"
      ],
      "text/plain": [
       "    Year       Country      Winner   Runners-Up        Third          Fourth  \\\n",
       "8   1970        Mexico      Brazil        Italy   Germany FR         Uruguay   \n",
       "9   1974       Germany  Germany FR  Netherlands       Poland          Brazil   \n",
       "10  1978     Argentina   Argentina  Netherlands       Brazil           Italy   \n",
       "11  1982         Spain       Italy   Germany FR       Poland          France   \n",
       "12  1986        Mexico   Argentina   Germany FR       France         Belgium   \n",
       "13  1990         Italy  Germany FR    Argentina        Italy         England   \n",
       "14  1994           USA      Brazil        Italy       Sweden        Bulgaria   \n",
       "15  1998        France      France       Brazil      Croatia     Netherlands   \n",
       "16  2002   Korea/Japan      Brazil      Germany       Turkey  Korea Republic   \n",
       "17  2006       Germany       Italy       France      Germany        Portugal   \n",
       "18  2010  South Africa       Spain  Netherlands      Germany         Uruguay   \n",
       "19  2014        Brazil     Germany    Argentina  Netherlands          Brazil   \n",
       "\n",
       "    GoalsScored  QualifiedTeams  MatchesPlayed Attendance  \n",
       "8            95              16             32  1.603.975  \n",
       "9            97              16             38  1.865.753  \n",
       "10          102              16             38  1.545.791  \n",
       "11          146              24             52  2.109.723  \n",
       "12          132              24             52  2.394.031  \n",
       "13          115              24             52  2.516.215  \n",
       "14          141              24             52  3.587.538  \n",
       "15          171              32             64  2.785.100  \n",
       "16          161              32             64  2.705.197  \n",
       "17          147              32             64  3.359.439  \n",
       "18          145              32             64  3.178.856  \n",
       "19          171              32             64  3.386.810  "
      ]
     },
     "execution_count": 47,
     "metadata": {},
     "output_type": "execute_result"
    }
   ],
   "source": [
    "df = pd.read_csv('WorldCups.csv')\n",
    "df.tail(12)"
   ]
  },
  {
   "cell_type": "code",
   "execution_count": 3,
   "metadata": {},
   "outputs": [
    {
     "data": {
      "text/plain": [
       "(12,)"
      ]
     },
     "execution_count": 3,
     "metadata": {},
     "output_type": "execute_result"
    }
   ],
   "source": [
    "b = np.array([4, 1, 2, 0, 0, 0, 4, 3, 4, 0, 0, 1])\n",
    "b.shape"
   ]
  },
  {
   "cell_type": "code",
   "execution_count": 4,
   "metadata": {},
   "outputs": [
    {
     "data": {
      "text/plain": [
       "(12,)"
      ]
     },
     "execution_count": 4,
     "metadata": {},
     "output_type": "execute_result"
    }
   ],
   "source": [
    "gdpb = np.array([8.8, 9.0, 3.2, 0.6, 8.0, -3.1, 5.3, 0.3, 3.1, 4.0, 7.5, 0.5])\n",
    "gdpb.shape"
   ]
  },
  {
   "cell_type": "code",
   "execution_count": 5,
   "metadata": {},
   "outputs": [
    {
     "data": {
      "text/plain": [
       "(12,)"
      ]
     },
     "execution_count": 5,
     "metadata": {},
     "output_type": "execute_result"
    }
   ],
   "source": [
    "gdpb1 = np.array([11.3, 5.2, 6.8, -3.4, 3.6, 1.5, 4.4, 0.5, 1.1, 6.1, 4.0, -3.5])\n",
    "gdpb1.shape"
   ]
  },
  {
   "cell_type": "code",
   "execution_count": 6,
   "metadata": {},
   "outputs": [
    {
     "data": {
      "text/plain": [
       "(12,)"
      ]
     },
     "execution_count": 6,
     "metadata": {},
     "output_type": "execute_result"
    }
   ],
   "source": [
    "f = np.array([0, 0, 0, 1, 2, 0, 0, 4, 0, 3, 0, 0])\n",
    "f.shape"
   ]
  },
  {
   "cell_type": "code",
   "execution_count": 7,
   "metadata": {},
   "outputs": [
    {
     "data": {
      "text/plain": [
       "(12,)"
      ]
     },
     "execution_count": 7,
     "metadata": {},
     "output_type": "execute_result"
    }
   ],
   "source": [
    "gdpf = np.array([5.0, 4.3, 4.0, 2.5, 2.3, 2.9, 2.4, 3.6, 1.1, 2.4, 1.9, 1.0])\n",
    "gdpf.shape"
   ]
  },
  {
   "cell_type": "code",
   "execution_count": 8,
   "metadata": {},
   "outputs": [
    {
     "data": {
      "text/plain": [
       "(12,)"
      ]
     },
     "execution_count": 8,
     "metadata": {},
     "output_type": "execute_result"
    }
   ],
   "source": [
    "gdpf1 = np.array([5.3, -1.0, 3.5, 1.2, 2.6, 1.0, 2.1, 3.4, 0.8, 2.4, 2.2, 1.1])\n",
    "gdpf1.shape"
   ]
  },
  {
   "cell_type": "code",
   "execution_count": 9,
   "metadata": {},
   "outputs": [
    {
     "data": {
      "text/plain": [
       "(12,)"
      ]
     },
     "execution_count": 9,
     "metadata": {},
     "output_type": "execute_result"
    }
   ],
   "source": [
    "i = np.array([3, 0, 1, 4, 0, 2, 3, 0, 0, 4, 0, 0])\n",
    "i.shape"
   ]
  },
  {
   "cell_type": "code",
   "execution_count": 10,
   "metadata": {},
   "outputs": [
    {
     "data": {
      "text/plain": [
       "(12,)"
      ]
     },
     "execution_count": 10,
     "metadata": {},
     "output_type": "execute_result"
    }
   ],
   "source": [
    "gdpi = np.array([5.3, 5.5, 3.2, 0.4, 2.9, 2.0, 2.2, 1.6, 0.2, 2.0, 1.7, 0.1])\n",
    "gdpi.shape"
   ]
  },
  {
   "cell_type": "code",
   "execution_count": 11,
   "metadata": {},
   "outputs": [
    {
     "data": {
      "text/plain": [
       "(12,)"
      ]
     },
     "execution_count": 11,
     "metadata": {},
     "output_type": "execute_result"
    }
   ],
   "source": [
    "gdpi1 = np.array([1.8, -2.1, 6.0, 1.2, 3.2, 1.5, 2.9, 1.6, 0.2, 1.5, 0.6, 0.9])\n",
    "gdpi1.shape"
   ]
  },
  {
   "cell_type": "code",
   "execution_count": 12,
   "metadata": {},
   "outputs": [
    {
     "data": {
      "text/plain": [
       "(12,)"
      ]
     },
     "execution_count": 12,
     "metadata": {},
     "output_type": "execute_result"
    }
   ],
   "source": [
    "g = np.array([0, 3, 3, 0, 0, 0, 0, 1, 0, 0, 3, 2])\n",
    "g.shape"
   ]
  },
  {
   "cell_type": "code",
   "execution_count": 13,
   "metadata": {},
   "outputs": [
    {
     "data": {
      "text/plain": [
       "(12,)"
      ]
     },
     "execution_count": 13,
     "metadata": {},
     "output_type": "execute_result"
    }
   ],
   "source": [
    "gdpg = np.array([6.3, 3.4, 2.7, -1.2, 2.8, 4.2, 3.0, 4.7, 0.2, 3.5, 1.3, 1.4])\n",
    "gdpg.shape"
   ]
  },
  {
   "cell_type": "code",
   "execution_count": 14,
   "metadata": {},
   "outputs": [
    {
     "data": {
      "text/plain": [
       "(12,)"
      ]
     },
     "execution_count": 14,
     "metadata": {},
     "output_type": "execute_result"
    }
   ],
   "source": [
    "gdpg1 = np.array([2.11, 2.10, 2.9, 2.8, 2.7, 2.6, 2.5, 2.4, 2.3, 2.2, 2.1, 2.0])\n",
    "gdpg1.shape"
   ]
  },
  {
   "cell_type": "code",
   "execution_count": 15,
   "metadata": {},
   "outputs": [
    {
     "data": {
      "text/plain": [
       "array([[1.        , 0.14643934],\n",
       "       [0.14643934, 1.        ]])"
      ]
     },
     "execution_count": 15,
     "metadata": {},
     "output_type": "execute_result"
    }
   ],
   "source": [
    "np.corrcoef(b, gdpb)\n"
   ]
  },
  {
   "cell_type": "code",
   "execution_count": 16,
   "metadata": {},
   "outputs": [
    {
     "data": {
      "text/plain": [
       "array([[1.        , 0.04545725],\n",
       "       [0.04545725, 1.        ]])"
      ]
     },
     "execution_count": 16,
     "metadata": {},
     "output_type": "execute_result"
    }
   ],
   "source": [
    "np.corrcoef(f, gdpf)"
   ]
  },
  {
   "cell_type": "code",
   "execution_count": 17,
   "metadata": {},
   "outputs": [
    {
     "data": {
      "text/plain": [
       "array([[1.        , 0.02789783],\n",
       "       [0.02789783, 1.        ]])"
      ]
     },
     "execution_count": 17,
     "metadata": {},
     "output_type": "execute_result"
    }
   ],
   "source": [
    "np.corrcoef(i, gdpi)"
   ]
  },
  {
   "cell_type": "code",
   "execution_count": 18,
   "metadata": {},
   "outputs": [
    {
     "data": {
      "text/plain": [
       "array([[ 1.        , -0.08614263],\n",
       "       [-0.08614263,  1.        ]])"
      ]
     },
     "execution_count": 18,
     "metadata": {},
     "output_type": "execute_result"
    }
   ],
   "source": [
    "np.corrcoef(g, gdpg)"
   ]
  },
  {
   "cell_type": "code",
   "execution_count": 19,
   "metadata": {},
   "outputs": [
    {
     "data": {
      "text/plain": [
       "array([[1.        , 0.30444581],\n",
       "       [0.30444581, 1.        ]])"
      ]
     },
     "execution_count": 19,
     "metadata": {},
     "output_type": "execute_result"
    }
   ],
   "source": [
    "np.corrcoef(b, gdpb1)"
   ]
  },
  {
   "cell_type": "code",
   "execution_count": 20,
   "metadata": {},
   "outputs": [
    {
     "data": {
      "text/plain": [
       "array([[1.        , 0.26948082],\n",
       "       [0.26948082, 1.        ]])"
      ]
     },
     "execution_count": 20,
     "metadata": {},
     "output_type": "execute_result"
    }
   ],
   "source": [
    "np.corrcoef(f, gdpf1)"
   ]
  },
  {
   "cell_type": "code",
   "execution_count": 21,
   "metadata": {},
   "outputs": [
    {
     "data": {
      "text/plain": [
       "array([[1.        , 0.18427592],\n",
       "       [0.18427592, 1.        ]])"
      ]
     },
     "execution_count": 21,
     "metadata": {},
     "output_type": "execute_result"
    }
   ],
   "source": [
    "np.corrcoef(i, gdpi1)"
   ]
  },
  {
   "cell_type": "code",
   "execution_count": 22,
   "metadata": {},
   "outputs": [
    {
     "data": {
      "text/plain": [
       "array([[ 1.        , -0.22324326],\n",
       "       [-0.22324326,  1.        ]])"
      ]
     },
     "execution_count": 22,
     "metadata": {},
     "output_type": "execute_result"
    }
   ],
   "source": [
    "np.corrcoef(g, gdpg1)"
   ]
  },
  {
   "cell_type": "markdown",
   "metadata": {},
   "source": [
    "Найдём коэффициенты линейной регрессии: сначала год к году, потом год после чемпионата/ начнем с бразилии"
   ]
  },
  {
   "cell_type": "code",
   "execution_count": 23,
   "metadata": {},
   "outputs": [
    {
     "data": {
      "text/plain": [
       "0.06495835491969876"
      ]
     },
     "execution_count": 23,
     "metadata": {},
     "output_type": "execute_result"
    }
   ],
   "source": [
    "b1 = ((gdpb * b).mean() - gdpb.mean() * b.mean()) / ((gdpb ** 2).mean() - gdpb.mean() ** 2)\n",
    "b1"
   ]
  },
  {
   "cell_type": "code",
   "execution_count": 24,
   "metadata": {},
   "outputs": [
    {
     "data": {
      "text/plain": [
       "1.3278304706491848"
      ]
     },
     "execution_count": 24,
     "metadata": {},
     "output_type": "execute_result"
    }
   ],
   "source": [
    "b0 = b.mean() - b1 * gdpb.mean()\n",
    "b0"
   ]
  },
  {
   "cell_type": "code",
   "execution_count": 25,
   "metadata": {},
   "outputs": [
    {
     "data": {
      "text/plain": [
       "0.12469844721552102"
      ]
     },
     "execution_count": 25,
     "metadata": {},
     "output_type": "execute_result"
    }
   ],
   "source": [
    "b12 = ((gdpb1 * b).mean() - gdpb1.mean() * b.mean()) / ((gdpb1 ** 2).mean() - gdpb1.mean() ** 2)\n",
    "b12"
   ]
  },
  {
   "cell_type": "code",
   "execution_count": 26,
   "metadata": {},
   "outputs": [
    {
     "data": {
      "text/plain": [
       "1.379797154584944"
      ]
     },
     "execution_count": 26,
     "metadata": {},
     "output_type": "execute_result"
    }
   ],
   "source": [
    "b02 = b.mean() - b1 * gdpb1.mean()\n",
    "b02"
   ]
  },
  {
   "cell_type": "code",
   "execution_count": 27,
   "metadata": {},
   "outputs": [
    {
     "data": {
      "text/plain": [
       "Text(0, 0.5, 'fifa')"
      ]
     },
     "execution_count": 27,
     "metadata": {},
     "output_type": "execute_result"
    },
    {
     "data": {
      "image/png": "[encoded data removed]",
      "text/plain": [
       "<Figure size 432x288 with 1 Axes>"
      ]
     },
     "metadata": {
      "needs_background": "light"
     },
     "output_type": "display_data"
    }
   ],
   "source": [
    "box = gdpb\n",
    "boy = b0 + b1 * box\n",
    "box1 = gdpb1\n",
    "boy1 = b02 + b12 * box1\n",
    "\n",
    "plt.scatter(gdpb, b)\n",
    "plt.plot(box, boy, color='green', alpha=0.5)\n",
    "plt.scatter(gdpb1, b)\n",
    "plt.plot(box1, boy1, color='red', alpha=0.5)\n",
    "\n",
    "plt.xlabel('gdp')\n",
    "plt.ylabel('fifa')"
   ]
  },
  {
   "cell_type": "markdown",
   "metadata": {},
   "source": [
    "Найдём коэффициенты линейной регрессии: сначала год к году, потом год после чемпионата. теперь франция"
   ]
  },
  {
   "cell_type": "code",
   "execution_count": 28,
   "metadata": {},
   "outputs": [
    {
     "data": {
      "text/plain": [
       "0.0516590502682295"
      ]
     },
     "execution_count": 28,
     "metadata": {},
     "output_type": "execute_result"
    }
   ],
   "source": [
    "f1 = ((gdpf * f).mean() - gdpf.mean() * f.mean()) / ((gdpf ** 2).mean() - gdpf.mean() ** 2)\n",
    "f1"
   ]
  },
  {
   "cell_type": "code",
   "execution_count": 29,
   "metadata": {},
   "outputs": [
    {
     "data": {
      "text/plain": [
       "0.689548976753428"
      ]
     },
     "execution_count": 29,
     "metadata": {},
     "output_type": "execute_result"
    }
   ],
   "source": [
    "f0 = f.mean() - f1 * gdpf.mean()\n",
    "f0"
   ]
  },
  {
   "cell_type": "code",
   "execution_count": 30,
   "metadata": {},
   "outputs": [
    {
     "data": {
      "text/plain": [
       "0.23484051875219056"
      ]
     },
     "execution_count": 30,
     "metadata": {},
     "output_type": "execute_result"
    }
   ],
   "source": [
    "f12 = ((gdpf1 * f).mean() - gdpf1.mean() * f.mean()) / ((gdpf1 ** 2).mean() - gdpf1.mean() ** 2)\n",
    "f12"
   ]
  },
  {
   "cell_type": "code",
   "execution_count": 31,
   "metadata": {},
   "outputs": [
    {
     "data": {
      "text/plain": [
       "0.7274322802834629"
      ]
     },
     "execution_count": 31,
     "metadata": {},
     "output_type": "execute_result"
    }
   ],
   "source": [
    "f02 = f.mean() - f1 * gdpf1.mean()\n",
    "f02"
   ]
  },
  {
   "cell_type": "code",
   "execution_count": 32,
   "metadata": {},
   "outputs": [
    {
     "data": {
      "text/plain": [
       "Text(0, 0.5, 'fifa')"
      ]
     },
     "execution_count": 32,
     "metadata": {},
     "output_type": "execute_result"
    },
    {
     "data": {
      "image/png": "[encoded data removed]",
      "text/plain": [
       "<Figure size 432x288 with 1 Axes>"
      ]
     },
     "metadata": {
      "needs_background": "light"
     },
     "output_type": "display_data"
    }
   ],
   "source": [
    "fox = gdpf\n",
    "foy = f0 + f1 * fox\n",
    "fox1 = gdpf1\n",
    "foy1 = f02 + f12 * fox1\n",
    "plt.scatter(gdpf, f)\n",
    "plt.plot(fox, foy, color='green', alpha=0.5)\n",
    "plt.scatter(gdpf1, f)\n",
    "plt.plot(fox1, foy1, color='red', alpha=0.5)\n",
    "\n",
    "plt.xlabel('gdpf')\n",
    "plt.ylabel('fifa')"
   ]
  },
  {
   "cell_type": "markdown",
   "metadata": {},
   "source": [
    "Найдём коэффициенты линейной регрессии: сначала год к году, потом год после чемпионата. теперь италия"
   ]
  },
  {
   "cell_type": "code",
   "execution_count": 33,
   "metadata": {},
   "outputs": [
    {
     "data": {
      "text/plain": [
       "0.026490388120640553"
      ]
     },
     "execution_count": 33,
     "metadata": {},
     "output_type": "execute_result"
    }
   ],
   "source": [
    "i1 = ((gdpi * i).mean() - gdpi.mean() * i.mean()) / ((gdpi ** 2).mean() - gdpi.mean() ** 2)\n",
    "i1"
   ]
  },
  {
   "cell_type": "code",
   "execution_count": 34,
   "metadata": {},
   "outputs": [
    {
     "data": {
      "text/plain": [
       "1.3568425401608868"
      ]
     },
     "execution_count": 34,
     "metadata": {},
     "output_type": "execute_result"
    }
   ],
   "source": [
    "i0 = i.mean() - i1 * gdpi.mean()\n",
    "i0"
   ]
  },
  {
   "cell_type": "code",
   "execution_count": 35,
   "metadata": {},
   "outputs": [
    {
     "data": {
      "text/plain": [
       "0.16007973475988058"
      ]
     },
     "execution_count": 35,
     "metadata": {},
     "output_type": "execute_result"
    }
   ],
   "source": [
    "i12 = ((gdpi1 * i).mean() - gdpi1.mean() * i.mean()) / ((gdpi1 ** 2).mean() - gdpi1.mean() ** 2)\n",
    "i12"
   ]
  },
  {
   "cell_type": "code",
   "execution_count": 36,
   "metadata": {},
   "outputs": [
    {
     "data": {
      "text/plain": [
       "1.3740612924393032"
      ]
     },
     "execution_count": 36,
     "metadata": {},
     "output_type": "execute_result"
    }
   ],
   "source": [
    "i02 = i.mean() - i1 * gdpi1.mean()\n",
    "i02"
   ]
  },
  {
   "cell_type": "code",
   "execution_count": 37,
   "metadata": {},
   "outputs": [
    {
     "data": {
      "text/plain": [
       "Text(0, 0.5, 'fifa')"
      ]
     },
     "execution_count": 37,
     "metadata": {},
     "output_type": "execute_result"
    },
    {
     "data": {
      "image/png": "[encoded data removed]",
      "text/plain": [
       "<Figure size 432x288 with 1 Axes>"
      ]
     },
     "metadata": {
      "needs_background": "light"
     },
     "output_type": "display_data"
    }
   ],
   "source": [
    "iox = gdpi\n",
    "ioy = i0 + i1 * iox\n",
    "iox1 = gdpi1\n",
    "ioy1 = i02 + i12 * iox1\n",
    "plt.scatter(gdpi, i)\n",
    "plt.plot(iox, ioy, color='green', alpha=0.5)\n",
    "plt.scatter(gdpi1, i)\n",
    "plt.plot(iox1, ioy1, color='red', alpha=0.5)\n",
    "\n",
    "plt.xlabel('gdpi')\n",
    "plt.ylabel('fifa')"
   ]
  },
  {
   "cell_type": "markdown",
   "metadata": {},
   "source": [
    "Найдём коэффициенты линейной регрессии: сначала год к году, потом год после чемпионата. теперь голландия"
   ]
  },
  {
   "cell_type": "code",
   "execution_count": 38,
   "metadata": {},
   "outputs": [
    {
     "data": {
      "text/plain": [
       "-0.05708117601858781"
      ]
     },
     "execution_count": 38,
     "metadata": {},
     "output_type": "execute_result"
    }
   ],
   "source": [
    "g1 = ((gdpg * g).mean() - gdpg.mean() * g.mean()) / ((gdpg ** 2).mean() - gdpg.mean() ** 2)\n",
    "g1"
   ]
  },
  {
   "cell_type": "code",
   "execution_count": 39,
   "metadata": {},
   "outputs": [
    {
     "data": {
      "text/plain": [
       "1.1536434987833655"
      ]
     },
     "execution_count": 39,
     "metadata": {},
     "output_type": "execute_result"
    }
   ],
   "source": [
    "g0 = g.mean() - g1 * gdpg.mean()\n",
    "g0"
   ]
  },
  {
   "cell_type": "code",
   "execution_count": 40,
   "metadata": {},
   "outputs": [
    {
     "data": {
      "text/plain": [
       "-0.9868822825316919"
      ]
     },
     "execution_count": 40,
     "metadata": {},
     "output_type": "execute_result"
    }
   ],
   "source": [
    "g12 = ((gdpg1 * g).mean() - gdpg1.mean() * g.mean()) / ((gdpg1 ** 2).mean() - gdpg1.mean() ** 2)\n",
    "g12"
   ]
  },
  {
   "cell_type": "code",
   "execution_count": 41,
   "metadata": {},
   "outputs": [
    {
     "data": {
      "text/plain": [
       "1.1365667136244713"
      ]
     },
     "execution_count": 41,
     "metadata": {},
     "output_type": "execute_result"
    }
   ],
   "source": [
    "g02 = g.mean() - g1 * gdpg1.mean()\n",
    "g02"
   ]
  },
  {
   "cell_type": "code",
   "execution_count": 42,
   "metadata": {},
   "outputs": [
    {
     "data": {
      "text/plain": [
       "Text(0, 0.5, 'fifa')"
      ]
     },
     "execution_count": 42,
     "metadata": {},
     "output_type": "execute_result"
    },
    {
     "data": {
      "image/png": "[encoded data removed]",
      "text/plain": [
       "<Figure size 432x288 with 1 Axes>"
      ]
     },
     "metadata": {
      "needs_background": "light"
     },
     "output_type": "display_data"
    }
   ],
   "source": [
    "gox = gdpg\n",
    "goy = g0 + g1 * gox\n",
    "gox1 = gdpg1\n",
    "goy1 = g02 + g12 * gox1\n",
    "plt.scatter(gdpg, g)\n",
    "plt.plot(gox, goy, color='green', alpha=0.5)\n",
    "plt.scatter(gdpg1, g)\n",
    "plt.plot(gox1, goy1, color='red', alpha=0.5)\n",
    "\n",
    "plt.xlabel('gdpg')\n",
    "plt.ylabel('fifa')"
   ]
  },
  {
   "cell_type": "code",
   "execution_count": 43,
   "metadata": {},
   "outputs": [
    {
     "data": {
      "text/plain": [
       "Text(0, 0.5, 'fifa')"
      ]
     },
     "execution_count": 43,
     "metadata": {},
     "output_type": "execute_result"
    },
    {
     "data": {
      "image/png": "[encoded data removed]",
      "text/plain": [
       "<Figure size 432x288 with 1 Axes>"
      ]
     },
     "metadata": {
      "needs_background": "light"
     },
     "output_type": "display_data"
    }
   ],
   "source": [
    "bx = gdpb\n",
    "by = b0 + b1 * bx\n",
    "\n",
    "plt.scatter(gdpb, b)\n",
    "plt.plot(bx, by, color='green', alpha=0.5)\n",
    "\n",
    "bx = gdpb1\n",
    "by = b02 + b12 * bx\n",
    "\n",
    "plt.scatter(gdpb1, b)\n",
    "\n",
    "plt.plot(bx, by, color='magenta', alpha=0.5)\n",
    "\n",
    "\n",
    "\n",
    "fx = gdpf\n",
    "fy = f0 + f1 * fx\n",
    "\n",
    "plt.scatter(gdpf, f)\n",
    "plt.plot(fx, fy, color='green', alpha=0.5)\n",
    "\n",
    "fx = gdpf1\n",
    "fy = f02 + f12 * fx\n",
    "\n",
    "plt.scatter(gdpf1, f)\n",
    "\n",
    "plt.plot(fx, fy, color='black', alpha=0.5)\n",
    "\n",
    "ix = gdpi\n",
    "iy = i0 + i1 * ix\n",
    "\n",
    "plt.scatter(gdpi, i)\n",
    "plt.plot(ix, iy, color='green', alpha=0.5)\n",
    "\n",
    "ix = gdpi1\n",
    "iy = i02 + i12 * ix\n",
    "\n",
    "plt.scatter(gdpi1, i)\n",
    "\n",
    "plt.plot(ix, iy, color='blue', alpha=0.5)\n",
    "\n",
    "gx = gdpg\n",
    "gy = g0 + g1 * gx\n",
    "\n",
    "plt.scatter(gdpg, g)\n",
    "plt.plot(gx, gy, color='green', alpha=0.5)\n",
    "\n",
    "gx = gdpg1\n",
    "gy = g02 + g12 * gx\n",
    "\n",
    "plt.scatter(gdpg1, g)\n",
    "\n",
    "plt.plot(gx, gy, color='red', alpha=0.5)\n",
    "\n",
    "plt.xlabel('gdp')\n",
    "plt.ylabel('fifa')"
   ]
  },
  {
   "cell_type": "code",
   "execution_count": null,
   "metadata": {},
   "outputs": [],
   "source": []
  },
  {
   "cell_type": "code",
   "execution_count": 44,
   "metadata": {},
   "outputs": [
    {
     "data": {
      "text/plain": [
       "Text(0.5, 1.0, 'netherlands')"
      ]
     },
     "execution_count": 44,
     "metadata": {},
     "output_type": "execute_result"
    },
    {
     "data": {
      "image/png": "[encoded data removed]",
      "text/plain": [
       "<Figure size 936x720 with 4 Axes>"
      ]
     },
     "metadata": {
      "needs_background": "light"
     },
     "output_type": "display_data"
    }
   ],
   "source": [
    "fig, ax = plt.subplots(nrows=2, ncols=2)\n",
    "ax1, ax2, ax3, ax4 = ax.flatten()\n",
    "fig.set_size_inches(13, 10)\n",
    "\n",
    "\n",
    "fig.subplots_adjust(wspace=0.3, hspace=0.3)\n",
    "\n",
    "ax1.scatter(gdpb, b)\n",
    "ax1.plot(box, boy, color='green', alpha=0.5)\n",
    "ax1.scatter(gdpb1, b)\n",
    "ax1.plot(box1, boy1, color='red', alpha=0.5)\n",
    "ax1.set_title(\"brazil\")\n",
    "\n",
    "ax2.scatter(gdpf, f)\n",
    "ax2.plot(fox, foy, color='green', alpha=0.5)\n",
    "ax2.scatter(gdpf1, f)\n",
    "ax2.plot(fox1, foy1, color='red', alpha=0.5)\n",
    "ax2.set_title(\"france\")\n",
    "\n",
    "ax3.scatter(gdpi, i)\n",
    "ax3.plot(iox, ioy, color='green', alpha=0.5)\n",
    "ax3.scatter(gdpi1, i)\n",
    "ax3.plot(iox1, ioy1, color='red', alpha=0.5)\n",
    "ax3.set_title(\"italy\")\n",
    "\n",
    "ax4.scatter(gdpg, g)\n",
    "ax4.plot(gox, goy, color='green', alpha=0.5)\n",
    "ax4.scatter(gdpg1, g)\n",
    "ax4.plot(gox1, goy1, color='red', alpha=0.5)\n",
    "ax4.set_title(\"netherlands\")"
   ]
  },
  {
   "cell_type": "markdown",
   "metadata": {},
   "source": [
    "видна некая зависимость роста ввп от результата игры национальной команды. если команда играла в финальной части ЧМ, то в след году ВВП страны рос. При этом зависимости ВВП от результатов команды в год проведения не видно. Однако из общего ряда выбиваются голландцы."
   ]
  },
  {
   "cell_type": "markdown",
   "metadata": {},
   "source": [
    "теперь я хочу посчитать вероятность роста Ввп страны, в случае если ее команда играет в финальной части ЧМ. Возьму те же 12 последних чемпионатов (без 2018). Если команда играла в финальной части и при этом ее ВВП на след год по темпу роста был выше предыдущего года, то это 1, если нет то 0.При этом в количество экспериментов войдет только число раз, когда команда участвовала. думаю, что эти событие можно признать совместными."
   ]
  },
  {
   "cell_type": "markdown",
   "metadata": {},
   "source": [
    "brazil 3/7\n",
    "italy 3/6\n",
    "netherlands 3/5\n",
    "france 2/4\n",
    "\n",
    "количество положительных исходов к количеству испытаний будет 11/22. или 0.5.\n",
    "\n",
    "то есть, если команда успешно сыграет, ввп ее страны не только вырастет, но и с вероятностью 50 процентов будет выше предыдущего года."
   ]
  },
  {
   "cell_type": "code",
   "execution_count": 45,
   "metadata": {},
   "outputs": [
    {
     "data": {
      "text/plain": [
       "0.5071428571428571"
      ]
     },
     "execution_count": 45,
     "metadata": {},
     "output_type": "execute_result"
    }
   ],
   "source": [
    "(3/7 + 3/6 + 3/5 + 2/4) / 4"
   ]
  },
  {
   "cell_type": "markdown",
   "metadata": {},
   "source": [
    "интересно посмотреть и с другой стороны. С какой вероятностью ввп снизится, если команда не играет в финале чм. Соответственно 1, если команда не играет и ввп на след год снижается, 0 если ввп растет"
   ]
  },
  {
   "cell_type": "markdown",
   "metadata": {},
   "source": [
    "brazil 3/5\n",
    "italy 4/6\n",
    "netherlands 5/7\n",
    "france 5/8\n",
    "\n",
    "количество положительных исходов к количеству испытаний будет 17/26. или 0.65\n",
    "\n",
    "то есть, если команда, постоянный участник финальной стадии ЧМ, не попадет в четверку лучших, то с вероятность 65 процентов ввп этой страны на след год снизится."
   ]
  },
  {
   "cell_type": "code",
   "execution_count": 46,
   "metadata": {},
   "outputs": [
    {
     "data": {
      "text/plain": [
       "0.6514880952380953"
      ]
     },
     "execution_count": 46,
     "metadata": {},
     "output_type": "execute_result"
    }
   ],
   "source": [
    "(3/5 + 4/6 + 5/7 + 5/8) / 4"
   ]
  }
 ],
 "metadata": {
  "kernelspec": {
   "display_name": "Python 3",
   "language": "python",
   "name": "python3"
  },
  "language_info": {
   "codemirror_mode": {
    "name": "ipython",
    "version": 3
   },
   "file_extension": ".py",
   "mimetype": "text/x-python",
   "name": "python",
   "nbconvert_exporter": "python",
   "pygments_lexer": "ipython3",
   "version": "3.7.3"
  }
 },
 "nbformat": 4,
 "nbformat_minor": 2
}
